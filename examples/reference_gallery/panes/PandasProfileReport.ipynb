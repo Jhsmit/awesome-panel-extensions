{
 "cells": [
  {
   "cell_type": "markdown",
   "metadata": {},
   "source": [
    "# PandasProfileReport Pane\n",
    "\n",
    "The `PandasProfileReport` pane enables a user to embed a `ProfileReport` generated using the\n",
    "[Pandas profile_report](https://github.com/pandas-profiling/pandas-profiling) package in apps developed in [Python](https://www.python.org/) and \n",
    "[Panel](https://panel.holoviz.org).\n",
    "\n",
    "<table>\n",
    "    <td>\n",
    "<a href=\"https://panel.holoviz.org\" target=\"blank_\"><img src=\"https://panel.holoviz.org/_static/logo_stacked.png\" style=\"max-height:200px\"></img></a>\n",
    "    </td>\n",
    "    <td>\n",
    "<a href=\"https://github.com/pandas-profiling/pandas-profiling\" target=\"blank_\"><img src=\"https://camo.githubusercontent.com/f20ff948c6ff94118a1660e6ffde4044d8b539c6/68747470733a2f2f70616e6461732d70726f66696c696e672e6769746875622e696f2f70616e6461732d70726f66696c696e672f646f63732f6173736574732f6c6f676f5f6865616465722e706e67\" style=\"max-height:200px\"></img></a>\n",
    "    </td>\n",
    "    <td>\n",
    "<a href=\"https://github.com/pandas-profiling/pandas-profiling\" target=\"blank_\"><img src=\"https://github.com/MarcSkovMadsen/awesome-panel-extensions/blob/master/assets/videos/PandasProfileReport.gif?raw=true\" style=\"max-height:200px\"></img></a>\n",
    "    </td>\n",
    "</table>\n",
    "\n",
    "\n",
    "#### Parameters:\n",
    "\n",
    "* **``object``** (pandas_profiling.ProfileReport): The Pandas Profiling ProfileReport object\n",
    "* **``object_when_no_report``** (str): A HTML element to show when the `object` is `None`\n",
    "* **``object_when_loading_report``** (str): A HTML element to shown while generating the HTML report.\n",
    "\n",
    "The `PandasProfileReport` has the same layout and styling parameters as `Column`. For example `height`, `width` and `sizing_mode`.\n",
    "\n",
    "___\n",
    "\n",
    "Let's start by importing the dependencies"
   ]
  },
  {
   "cell_type": "code",
   "execution_count": null,
   "metadata": {},
   "outputs": [],
   "source": [
    "import panel as pn\n",
    "pn.extension()\n",
    "pn.config.sizing_mode = \"stretch_width\"\n",
    "\n",
    "import pandas as pd\n",
    "from pandas_profiling import ProfileReport\n",
    "\n",
    "from awesome_panel_extensions.panes import PandasProfileReport"
   ]
  },
  {
   "cell_type": "markdown",
   "metadata": {},
   "source": [
    "Then we generate the `ProfileReport`"
   ]
  },
  {
   "cell_type": "code",
   "execution_count": null,
   "metadata": {},
   "outputs": [],
   "source": [
    "URL = \"http://eforexcel.com/wp/wp-content/uploads/2017/07/100-Sales-Records.zip\"\n",
    "DATAFRAME = pd.read_csv(URL)\n",
    "profile_report = ProfileReport(DATAFRAME) "
   ]
  },
  {
   "cell_type": "markdown",
   "metadata": {},
   "source": [
    "If you wan't to customize the `profile_report` you can take a look at the available options [here](https://pandas-profiling.github.io/pandas-profiling/docs/master/rtd/pages/advanced_usage.html).\n",
    "\n",
    "Then we wrap the `profile_report` in a `PandasProfileReport` pane."
   ]
  },
  {
   "cell_type": "code",
   "execution_count": null,
   "metadata": {},
   "outputs": [],
   "source": [
    "pandas_profile_report = PandasProfileReport(profile_report=profile_report, height=700, margin=(0,5,10,5))"
   ]
  },
  {
   "cell_type": "markdown",
   "metadata": {},
   "source": [
    "Finally we wrap it all together in an `app` that allows testing the pane"
   ]
  },
  {
   "cell_type": "code",
   "execution_count": null,
   "metadata": {},
   "outputs": [],
   "source": [
    "app_bar = pn.pane.Markdown(\n",
    "    \"# Pandas Profiling powered by Panel 💪\", \n",
    "    background=\"black\", \n",
    "    style={\"color\": \"white\", \"padding-left\": \"25px\", \"padding-bottom\": \"0px\"}, \n",
    "    margin=(10,5,0,5)\n",
    ")\n",
    "\n",
    "app_settings = pn.Param(\n",
    "    pandas_profile_report, \n",
    "    parameters=[\"height\", \"width\", \"sizing_mode\", \"object_when_no_report\", \"object_when_loading_report\"], \n",
    "    background=\"lightgray\", \n",
    "    margin=(0,5,0,5),\n",
    "    show_name=False\n",
    ")\n",
    "\n",
    "app=pn.Column(app_bar, app_settings, pandas_profile_report)\n",
    "\n",
    "app"
   ]
  },
  {
   "cell_type": "markdown",
   "metadata": {},
   "source": [
    "Click the button below if you want to **serve the app on a web server**."
   ]
  },
  {
   "cell_type": "code",
   "execution_count": null,
   "metadata": {},
   "outputs": [],
   "source": [
    "def show_app(event):\n",
    "    server = app.show(port=5007)\n",
    "show_app_button = pn.widgets.Button(name=\"Start Server\", button_type=\"success\")\n",
    "show_app_button.on_click(show_app)\n",
    "\n",
    "show_app_button"
   ]
  },
  {
   "cell_type": "markdown",
   "metadata": {},
   "source": [
    "Navigate to http://localhost:5007 to see the app.\n",
    "\n",
    "_____"
   ]
  },
  {
   "cell_type": "markdown",
   "metadata": {},
   "source": [
    "If you want to see a live Pandas Profiling Report you can find one in the Gallery at [awesome-panel.org](awesome-panel.org)\n",
    "\n",
    "If you have comments or suggestions your can file them on the [Github Issues](https://github.com/marcskovmadsen/awesome-panel-extensions/issues)\n",
    "\n",
    "If you think the `PandasProfileReport` is awesome and want to share it with your network click one of the links below\n",
    "\n",
    "<a href=\"https://twitter.com/intent/tweet?text=Checkout%20the%20awesome%20PandasProfileReport%20extension%20for%20Panel.%0A%0Ahttps%3A//github.com/MarcSkovMadsen/awesome-panel-extensions/blob/master/examples/reference_gallery/panes/PandasProfileReport.ipynb%0A%0APanel%20is%20a%20%23Python%20framework%20for%20easily%20creating%20powerful,%20reactive%20analytics%20apps.\">Share on Twitter</a>\n",
    "\n",
    "<a href=\"https://www.linkedin.com/shareArticle?mini=true&url=https%3A//github.com/MarcSkovMadsen/awesome-panel-extensions/blob/master/examples/reference_gallery/panes/PandasProfileReport.ipynb&title=Share%20on%20LinkedIn&summary=Checkout%20the%20awesome%20PandasProfileReport%20extension%20for%20Panel.%0A%0Ahttps%3A//github.com/MarcSkovMadsen/awesome-panel-extensions/blob/master/examples/reference_gallery/panes/PandasProfileReport.ipynb%0A%0APanel%20is%20a%20%23Python%20framework%20for%20easily%20creating%20powerful,%20reactive%20analytics%20apps.&source=\">Share on LinkedIn</a>\n",
    "\n",
    "Feel free to include the `.gif` video below in your tweet or post.\n",
    "\n",
    "<img src=\"https://github.com/MarcSkovMadsen/awesome-panel-extensions/blob/master/assets/videos/PandasProfileReportNotebook.gif?raw=true\" width=\"100%\">"
   ]
  },
  {
   "cell_type": "code",
   "execution_count": null,
   "metadata": {},
   "outputs": [],
   "source": []
  }
 ],
 "metadata": {
  "kernelspec": {
   "display_name": "Python 3",
   "language": "python",
   "name": "python3"
  },
  "language_info": {
   "codemirror_mode": {
    "name": "ipython",
    "version": 3
   },
   "file_extension": ".py",
   "mimetype": "text/x-python",
   "name": "python",
   "nbconvert_exporter": "python",
   "pygments_lexer": "ipython3",
   "version": "3.7.6"
  }
 },
 "nbformat": 4,
 "nbformat_minor": 4
}
