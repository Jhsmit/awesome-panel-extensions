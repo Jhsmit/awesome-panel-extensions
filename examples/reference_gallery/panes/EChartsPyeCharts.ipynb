{
 "cells": [
  {
   "cell_type": "markdown",
   "metadata": {},
   "source": [
    "# Echarts Pane Example\n",
    "            \n",
    "\n",
    "## Description\n",
    "\n",
    "[ECharts](https://www.echartsjs.com/en/index.html) is an open-sourced JavaScript\n",
    "visualization tool, which can run fluently on PC and mobile devices.\n",
    "It is compatible with most modern Web Browsers. Its also an **Apache incubator project**. The library is very fast with a modern look and feel.\n",
    "\n",
    "[Pyecharts](https://pyecharts.org/#/en-us/) is a Python api for using ECharts in Python\n",
    "including Standalone, Flask, Django and Jupyter Notebooks.\n",
    "\n",
    "Below we develop an `ECharts` pane capable of showing Echarts dicts and Pyecharts objects **enabling us to develop awesome analytics apps using the power of Echarts, Panel and Python**.\n",
    "\n",
    "<a href=\"https://www.echartsjs.com/en/index.html\" target=\"blank_\"><img src=\"https://img2018.cnblogs.com/blog/1244003/201903/1244003-20190301152709535-1909606063.png\" style=\"max-height:400px\"></img></a>\n",
    "\n",
    "**Author:**\n",
    "[Marc Skov Madsen](https://datamodelsanalytics.com) ([awesome-panel.org](https://awesome-panel.org))\n",
    "\n",
    "**Tags:**\n",
    "[Panel](https://panel.holoviz.org/)\n",
    "[Echarts](https://www.echartsjs.com/en/index.html)\n",
    "[PyeChart](https://pyecharts.org/#/en-us/)\n",
    "[Pane](https://panel.holoviz.org/user_guide/Components.html)\n",
    "[WebComponent](https://panel.holoviz.org/reference/panes/WebComponent.html)\n",
    "[Python](https://www.python.org/)\n",
    "\n",
    "**License:**\n",
    "[MIT](https://opensource.org/licenses/mit-license.php)\n",
    "\n",
    "**Resources:**\n",
    "[Echarts intro Video](https://www.youtube.com/watch?v=MF34Cgk5Rp0)"
   ]
  },
  {
   "cell_type": "markdown",
   "metadata": {},
   "source": [
    "## Code\n",
    "\n",
    "### Imports"
   ]
  },
  {
   "cell_type": "code",
   "execution_count": null,
   "metadata": {},
   "outputs": [],
   "source": [
    "import param\n",
    "import panel as pn\n",
    "\n",
    "# Configure and import js in Notebook\n",
    "ECHART_JS_NOTEBOOK = \"https://pyecharts.github.io/jupyter-echarts/echarts/echarts.min.js\"\n",
    "pn.config.js_files[\"echart\"]=ECHART_JS_NOTEBOOK\n",
    "pn.extension()\n",
    "\n",
    "# Configure js for server\n",
    "ECHART_JS_SERVER = \"https://cdn.bootcss.com/echarts/3.7.2/echarts.min.js\"\n",
    "pn.config.js_files[\"echart\"]=ECHART_JS_SERVER"
   ]
  },
  {
   "cell_type": "markdown",
   "metadata": {},
   "source": [
    "### HTML Example"
   ]
  },
  {
   "cell_type": "code",
   "execution_count": null,
   "metadata": {},
   "outputs": [],
   "source": [
    "%%HTML\n",
    "\n",
    "<div id=\"echarts-example\" style=\"width: 100%;height:400px;\"></div>\n",
    "<script type=\"text/javascript\">\n",
    "    // based on prepared DOM, initialize echarts instance\n",
    "    var myChart = echarts.init(document.getElementById('echarts-example'));\n",
    "\n",
    "    // specify chart configuration item and data\n",
    "    var option = {\n",
    "        title: {\n",
    "            text: 'ECharts Entry Example'\n",
    "        },\n",
    "        tooltip: {},\n",
    "        legend: {\n",
    "            data:['Sales']\n",
    "        },\n",
    "        xAxis: {\n",
    "            data: [\"shirt\",\"cardign\",\"chiffon shirt\",\"pants\",\"heels\",\"socks\"]\n",
    "        },\n",
    "        yAxis: {},\n",
    "        series: [{\n",
    "            name: 'Sales',\n",
    "            type: 'bar',\n",
    "            data: [5, 20, 36, 10, 10, 20]\n",
    "        }]\n",
    "    };\n",
    "\n",
    "    // use configuration item and data specified to show chart\n",
    "    myChart.setOption(option);\n",
    "</script>"
   ]
  },
  {
   "cell_type": "markdown",
   "metadata": {},
   "source": [
    "### `ECharts` Pane"
   ]
  },
  {
   "cell_type": "code",
   "execution_count": null,
   "metadata": {},
   "outputs": [],
   "source": [
    "ECHARTS_HTML = \"\"\"\n",
    "    <div class=\"echart\" style=\"width:100%;height:100%;\"></div>\n",
    "    <script type=\"text/javascript\">\n",
    "        var myScript = document.currentScript;\n",
    "        var myDiv = myScript.parentElement.firstElementChild;\n",
    "        var myChart = echarts.init(myDiv);\n",
    "        myDiv.eChart = myChart;\n",
    "        Object.defineProperty(myDiv, 'option', {\n",
    "           get: function() { return null; },\n",
    "           set: function(val) { this.eChart.setOption(val); this.eChart.resize();}\n",
    "        });\n",
    "        myDiv.after_layout = myChart.resize; // Resizes the chart after layout of parent element\n",
    "    </script>\"\"\""
   ]
  },
  {
   "cell_type": "code",
   "execution_count": null,
   "metadata": {},
   "outputs": [],
   "source": [
    "class ECharts(pn.pane.WebComponent):\n",
    "    html = param.String(ECHARTS_HTML)\n",
    "    properties_to_watch = param.Dict({\"option\": \"option\"})\n",
    "\n",
    "    echart = param.Parameter()\n",
    "    option = param.Dict()\n",
    "\n",
    "    def __init__(self, **params):\n",
    "        if \"echart\" in params:\n",
    "            params[\"option\"] = self._to_echart_dict(params[\"echart\"])\n",
    "        super().__init__(**params)\n",
    "\n",
    "    @classmethod\n",
    "    def _to_echart_dict(cls, echart):\n",
    "        if isinstance(echart, dict):\n",
    "            return echart\n",
    "        if 'pyecharts' in sys.modules:\n",
    "            import pyecharts\n",
    "            if isinstance(echart, pyecharts.charts.chart.Chart):\n",
    "                return json.loads(echart.dump_options())\n",
    "\n",
    "        return {}\n",
    "\n",
    "    @param.depends(\"echart\", watch=True)\n",
    "    def update(self):\n",
    "        self.option = self._to_echart_dict(self.echart)"
   ]
  },
  {
   "cell_type": "markdown",
   "metadata": {},
   "source": [
    "## Output\n",
    "\n",
    "### Simple App"
   ]
  },
  {
   "cell_type": "code",
   "execution_count": null,
   "metadata": {},
   "outputs": [],
   "source": [
    "ECHART_DICT = {\n",
    "    \"title\": {\"text\": \"ECharts Entry example\"},\n",
    "    \"tooltip\": {},\n",
    "    \"legend\": {\"data\": [\"Sales\"]},\n",
    "    \"xAxis\": {\"data\": [\"shirt\", \"cardign\", \"chiffon shirt\", \"pants\", \"heels\", \"socks\"]},\n",
    "    \"yAxis\": {},\n",
    "    \"series\": [{\"name\": \"Sales\", \"type\": \"bar\", \"data\": [5, 20, 36, 10, 10, 20]}],\n",
    "}\n",
    "simple_app = pn.Column(\n",
    "    ECharts(echart=ECHART_DICT, height=500),\n",
    "    sizing_mode=\"stretch_width\"\n",
    ")\n",
    "simple_app"
   ]
  },
  {
   "cell_type": "markdown",
   "metadata": {},
   "source": [
    "### ECharts  App"
   ]
  },
  {
   "cell_type": "code",
   "execution_count": null,
   "metadata": {},
   "outputs": [],
   "source": [
    "BOUNDS=(0,100)\n",
    "\n",
    "class EchartsApp(param.Parameterized):\n",
    "    title = param.String(\"Awesome Panel\")\n",
    "    plot_type = param.ObjectSelector(\"bar\", objects=[\"bar\", \"scatter\"], label=\"Plot Type\")\n",
    "    \n",
    "    shirt = param.Integer(default=5, bounds=BOUNDS) \n",
    "    cardign = param.Integer(default=20, bounds=BOUNDS)\n",
    "    chiffon_shirt = param.Integer(default=36, bounds=BOUNDS)\n",
    "    pants = param.Integer(default=10, bounds=BOUNDS)\n",
    "    heels = param.Integer(default=10, bounds=BOUNDS)\n",
    "    socks = param.Integer(default=20, bounds=BOUNDS)\n",
    "    \n",
    "    def __init__(self, **params):\n",
    "        super().__init__(**params)\n",
    "        \n",
    "        self.plot = ECharts(height=500)\n",
    "        \n",
    "        self.update_plot()\n",
    "        \n",
    "    @param.depends(\"title\", \"plot_type\", \"shirt\", \"cardign\", \"chiffon_shirt\", \"pants\", \"heels\", \"socks\", watch=True)\n",
    "    def update_plot(self):\n",
    "        echart = {\n",
    "                \"title\": {\"text\": self.title},\n",
    "                \"tooltip\": {},\n",
    "                \"legend\": {\"data\": [\"Sales\"]},\n",
    "                \"xAxis\": {\"data\": [\"shirt\", \"cardign\", \"chiffon shirt\", \"pants\", \"heels\", \"socks\"]},\n",
    "                \"yAxis\": {},\n",
    "                \"series\": [\n",
    "                    {\n",
    "                        \"name\": \"Sales\", \n",
    "                        \"type\": self.plot_type, \n",
    "                        \"data\": [self.shirt, self.cardign, self.chiffon_shirt, self.pants, self.heels, self.socks],\n",
    "                    }\n",
    "                ],\n",
    "        }\n",
    "        self.plot.echart = echart\n",
    "        \n",
    "    def view(self):\n",
    "        top_app_bar = pn.Row(\n",
    "            pn.pane.PNG(\"https://www.echartsjs.com/en/images/logo.png\", sizing_mode=\"fixed\", height=40, margin=(15,0,5,25)),\n",
    "            pn.layout.VSpacer(),\n",
    "            pn.pane.PNG(\"https://panel.holoviz.org/_static/logo_horizontal.png\", sizing_mode=\"fixed\", height=40, margin=(15,0,5,25)),\n",
    "            \"\",\n",
    "            pn.layout.VSpacer(),\n",
    "            background=\"rgb(41, 60, 85)\",\n",
    "            height=70\n",
    "            )\n",
    "        \n",
    "        settings_pane  =pn.Param(\n",
    "            self, \n",
    "            show_name=False, \n",
    "            width=200, \n",
    "            sizing_mode=\"stretch_height\",\n",
    "            background=\"rgb(245, 247, 250)\"\n",
    "        )\n",
    "        \n",
    "        return pn.Column(\n",
    "            top_app_bar,\n",
    "            pn.layout.HSpacer(height=50),\n",
    "            pn.Row(\n",
    "                self.plot,\n",
    "                settings_pane, \n",
    "            ),\n",
    "        )\n",
    "\n",
    "pn.config.sizing_mode=\"stretch_width\"\n",
    "app =  EchartsApp()\n",
    "view=app.view()\n",
    "view"
   ]
  },
  {
   "cell_type": "code",
   "execution_count": null,
   "metadata": {},
   "outputs": [],
   "source": [
    "def show_in_server(event):\n",
    "    view.show()\n",
    "    \n",
    "show_button = pn.widgets.Button(name=\"Deploy to Server\", button_type=\"success\")\n",
    "show_button.on_click(show_in_server)\n",
    "show_button"
   ]
  }
 ],
 "metadata": {
  "kernelspec": {
   "display_name": "panel",
   "language": "python",
   "name": "panel"
  },
  "language_info": {
   "codemirror_mode": {
    "name": "ipython",
    "version": 3
   },
   "file_extension": ".py",
   "mimetype": "text/x-python",
   "name": "python",
   "nbconvert_exporter": "python",
   "pygments_lexer": "ipython3",
   "version": "3.7.4"
  }
 },
 "nbformat": 4,
 "nbformat_minor": 4
}
